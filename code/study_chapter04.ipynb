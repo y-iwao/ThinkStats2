{
 "cells": [
  {
   "cell_type": "markdown",
   "metadata": {},
   "source": [
    " # 4 累積分布関数"
   ]
  },
  {
   "cell_type": "markdown",
   "metadata": {},
   "source": [
    " ## 4.1 PMF の限界\n",
    " - PMF は値の個数が増えるとランダムノイズの影響が大きくなる\n",
    " - PMF では２つの分布の比較が難しい\n",
    " - CDF 累積分布関数 cumulative distribution function\n",
    " ## 4.2 パーセンタイル"
   ]
  },
  {
   "cell_type": "code",
   "execution_count": 1,
   "metadata": {},
   "outputs": [],
   "source": [
    "def PercentileRank(scores, your_score):\n",
    "    \"\"\"Compute the percentile rank of a given score\n",
    "    \n",
    "    Arguments:\n",
    "        scores (list) \n",
    "        your_score (float) \n",
    "    \n",
    "    Returns:\n",
    "        float percentile rank\n",
    "    \"\"\"\n",
    "    count =0\n",
    "    for score in scores:\n",
    "        if score <= your_score:     \n",
    "            count += 1\n",
    "    \n",
    "    percentile_rank = (100.0 * count) / len(scores)\n",
    "    return percentile_rank\n"
   ]
  },
  {
   "cell_type": "code",
   "execution_count": 2,
   "metadata": {},
   "outputs": [
    {
     "name": "stdout",
     "output_type": "stream",
     "text": [
      "80.0\n"
     ]
    }
   ],
   "source": [
    "scores = [55, 66, 77, 88, 99]\n",
    "percentile_rank = PercentileRank(scores, 88)\n",
    "print(percentile_rank)\n"
   ]
  },
  {
   "cell_type": "code",
   "execution_count": 3,
   "metadata": {},
   "outputs": [],
   "source": [
    "def Percentile(scores, percentile_rank):\n",
    "    \"\"\"Get the percentile value of a given percentil rank.\n",
    "    \n",
    "    Arguments:\n",
    "        scores (list)\n",
    "        percentile_rank (float) \n",
    "    \n",
    "    Returns:\n",
    "        float percentile rank\n",
    "    \"\"\"\n",
    "    scores.sort()\n",
    "    for score in scores:\n",
    "        if PercentileRank(scores, score) >= percentile_rank:\n",
    "            return score\n"
   ]
  },
  {
   "cell_type": "code",
   "execution_count": 4,
   "metadata": {},
   "outputs": [
    {
     "name": "stdout",
     "output_type": "stream",
     "text": [
      "88\n"
     ]
    }
   ],
   "source": [
    "percentile = Percentile(scores, percentile_rank)\n",
    "print(percentile)\n"
   ]
  },
  {
   "cell_type": "code",
   "execution_count": 5,
   "metadata": {},
   "outputs": [],
   "source": [
    "def Percentile2(scores, percentile_rank):\n",
    "    \"\"\"Get the percentile value of a given percentile rank.\n",
    "    \n",
    "    More effective implementation.\n",
    "    \n",
    "    Arguments:\n",
    "        scores (list) \n",
    "        percentile_rank (float) \n",
    "    \n",
    "    Returns:\n",
    "        float percentile value \n",
    "    \"\"\"\n",
    "    scores.sort()\n",
    "    index = int(percentile_rank * (len(scores) - 1) / 100)\n",
    "    return scores[index]\n"
   ]
  },
  {
   "cell_type": "code",
   "execution_count": 6,
   "metadata": {},
   "outputs": [
    {
     "name": "stdout",
     "output_type": "stream",
     "text": [
      "88\n"
     ]
    }
   ],
   "source": [
    "percentile = Percentile2(scores, percentile_rank)\n",
    "print(percentile)\n"
   ]
  },
  {
   "cell_type": "markdown",
   "metadata": {},
   "source": [
    " ## 4.3 累積分布関数（CDF）"
   ]
  },
  {
   "cell_type": "code",
   "execution_count": 7,
   "metadata": {},
   "outputs": [],
   "source": [
    "def EvalCdf(t, x):\n",
    "    \"\"\" Compute the CDF of given value\n",
    "    \n",
    "    Arguments:\n",
    "        t (list): value sequence\n",
    "        x (float): value\n",
    "    \n",
    "    Returns:\n",
    "        float CDF\n",
    "    \"\"\"\n",
    "    count = 0.0\n",
    "    for value in t:\n",
    "        if value <= x:\n",
    "            count += 1\n",
    "    \n",
    "    prob = count / len(t)\n",
    "    return prob\n",
    "\n"
   ]
  },
  {
   "cell_type": "code",
   "execution_count": 8,
   "metadata": {},
   "outputs": [
    {
     "name": "stdout",
     "output_type": "stream",
     "text": [
      "CDF(0) = 0.0\n",
      "CDF(1) = 0.2\n",
      "CDF(2) = 0.6\n",
      "CDF(3) = 0.8\n",
      "CDF(4) = 0.8\n",
      "CDF(5) = 1.0\n"
     ]
    }
   ],
   "source": [
    "t = [1, 2, 2, 3, 5]\n",
    "for x in range(6): \n",
    "    print(\"CDF({0}) = {1}\".format(x, EvalCdf(t, x)))"
   ]
  },
  {
   "cell_type": "markdown",
   "metadata": {},
   "source": [
    " ## 4.4 CDF の表現"
   ]
  },
  {
   "cell_type": "code",
   "execution_count": 9,
   "metadata": {},
   "outputs": [
    {
     "data": {
      "text/plain": [
       "<Figure size 640x480 with 1 Axes>"
      ]
     },
     "metadata": {},
     "output_type": "display_data"
    }
   ],
   "source": [
    "import thinkstats2\n",
    "import first\n",
    "import thinkplot\n",
    "\n",
    "live , firsts,others = first.MakeFrames() \n",
    "cdf = thinkstats2.Cdf(live.prglngth, label='prglngth')\n",
    "thinkplot.Cdf(cdf)\n",
    "thinkplot.show(xlabel='weeks', ylabel='CDF')\n"
   ]
  },
  {
   "cell_type": "code",
   "execution_count": 10,
   "metadata": {},
   "outputs": [
    {
     "name": "stdout",
     "output_type": "stream",
     "text": [
      "10% 36 weeks\n",
      "90% 41 weeks\n"
     ]
    }
   ],
   "source": [
    "\n",
    "print(\"10% {0} weeks\".format(cdf.Value(0.1)))\n",
    "print(\"90% {0} weeks\".format(cdf.Value(0.9)))\n"
   ]
  },
  {
   "cell_type": "markdown",
   "metadata": {},
   "source": [
    " ## 4.5 CDFを比較する"
   ]
  },
  {
   "cell_type": "code",
   "execution_count": 11,
   "metadata": {},
   "outputs": [
    {
     "data": {
      "image/png": "[encoded data removed]",
      "text/plain": [
       "<Figure size 432x288 with 1 Axes>"
      ]
     },
     "metadata": {
      "needs_background": "light"
     },
     "output_type": "display_data"
    },
    {
     "data": {
      "text/plain": [
       "<Figure size 576x432 with 0 Axes>"
      ]
     },
     "metadata": {},
     "output_type": "display_data"
    }
   ],
   "source": [
    "first_cdf = thinkstats2.Cdf(firsts.totalwgt_lb, label='first')\n",
    "other_cdf = thinkstats2.Cdf(others.totalwgt_lb, label='other')\n",
    "thinkplot.PrePlot(2)\n",
    "thinkplot.Cdfs([first_cdf, other_cdf])\n",
    "thinkplot.Show(xlabel='weight (pounds)', ylabel='CDF') \n"
   ]
  },
  {
   "cell_type": "markdown",
   "metadata": {},
   "source": [
    " ## 4.6 パーセンタイル派生統計量\n",
    " - 中央値(median)：50位パーセンタイル値\n",
    " - 四分位範囲(interquartile range, IQR)：75位 -　25位パーセンタイル値\n",
    " - 分位数(quantiles)：CDFにおいて等間隔で表現される統計量"
   ]
  },
  {
   "cell_type": "markdown",
   "metadata": {},
   "source": [
    " ## 4.7 乱数"
   ]
  },
  {
   "cell_type": "code",
   "execution_count": 12,
   "metadata": {},
   "outputs": [
    {
     "data": {
      "image/png": "[encoded data removed]",
      "text/plain": [
       "<Figure size 432x288 with 1 Axes>"
      ]
     },
     "metadata": {
      "needs_background": "light"
     },
     "output_type": "display_data"
    },
    {
     "data": {
      "text/plain": [
       "<Figure size 576x432 with 0 Axes>"
      ]
     },
     "metadata": {},
     "output_type": "display_data"
    }
   ],
   "source": [
    "import numpy as np\n",
    "weights = live.totalwgt_lb\n",
    "cdf = thinkstats2.Cdf(weights, label='totalwgt_lb')\n",
    "sample = np.random.choice(weights, 100, replace=True)\n",
    "ranks = [cdf.PercentileRank(x) for x in sample]\n",
    "rank_cdf = thinkstats2.Cdf(ranks)\n",
    "thinkplot.Cdf(rank_cdf)\n",
    "thinkplot.show(xlabel='percentile rank', ylabel='CDF')\n"
   ]
  },
  {
   "cell_type": "markdown",
   "metadata": {},
   "source": [
    " ## 4.8 パーセンタイル順位を比較する"
   ]
  },
  {
   "cell_type": "code",
   "execution_count": 13,
   "metadata": {},
   "outputs": [],
   "source": [
    "def PositionToPercentileRank(position, field_size):\n",
    "    \"\"\"Compute the percentile rank of a given position\n",
    "    \n",
    "    Arguments:\n",
    "        position (int) \n",
    "        field_size (int)\n",
    "    \n",
    "    Returns:\n",
    "        float percentile rank\n",
    "    \"\"\"\n",
    "    beat = field_size - position + 1\n",
    "    percentile_rank  = (100.0 * beat) / field_size\n",
    "    return percentile_rank\n"
   ]
  },
  {
   "cell_type": "code",
   "execution_count": 14,
   "metadata": {},
   "outputs": [
    {
     "name": "stdout",
     "output_type": "stream",
     "text": [
      "90.234375\n"
     ]
    }
   ],
   "source": [
    "field_size=256\n",
    "position = 26\n",
    "percentile_rank = PositionToPercentileRank(position, field_size)\n",
    "print(percentile_rank)\n"
   ]
  },
  {
   "cell_type": "code",
   "execution_count": 15,
   "metadata": {},
   "outputs": [],
   "source": [
    "def PercentileRankToPositon(percentile_rank, field_size):\n",
    "    \"\"\"Compute the position of a given percentile_rank\n",
    "    \n",
    "    Arguments:\n",
    "        percentile_rank (float) \n",
    "        field_size (int) \n",
    "    \n",
    "    Returns:\n",
    "        float position\n",
    "    \"\"\"\n",
    "    beat = percentile_rank * field_size / 100.0\n",
    "    position = field_size - beat + 1\n",
    "    return position\n"
   ]
  },
  {
   "cell_type": "code",
   "execution_count": 16,
   "metadata": {},
   "outputs": [
    {
     "name": "stdout",
     "output_type": "stream",
     "text": [
      "26.0\n"
     ]
    }
   ],
   "source": [
    "position = PercentileRankToPositon(percentile_rank, field_size)\n",
    "print(position)\n"
   ]
  },
  {
   "cell_type": "code",
   "execution_count": 17,
   "metadata": {},
   "outputs": [
    {
     "name": "stdout",
     "output_type": "stream",
     "text": [
      "17.69921875\n"
     ]
    }
   ],
   "source": [
    "new_field_size = 171\n",
    "new_position = PercentileRankToPositon(percentile_rank, new_field_size)\n",
    "print(new_position)\n"
   ]
  }
 ],
 "metadata": {
  "file_extension": ".py",
  "kernelspec": {
   "display_name": "Python 3",
   "language": "python",
   "name": "python3"
  },
  "language_info": {
   "codemirror_mode": {
    "name": "ipython",
    "version": 3
   },
   "file_extension": ".py",
   "mimetype": "text/x-python",
   "name": "python",
   "nbconvert_exporter": "python",
   "pygments_lexer": "ipython3",
   "version": "3.7.3"
  },
  "mimetype": "text/x-python",
  "name": "python",
  "npconvert_exporter": "python",
  "pygments_lexer": "ipython3",
  "version": 3
 },
 "nbformat": 4,
 "nbformat_minor": 2
}
